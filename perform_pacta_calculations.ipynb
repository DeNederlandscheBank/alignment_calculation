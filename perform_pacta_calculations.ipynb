{
 "cells": [
  {
   "cell_type": "code",
   "execution_count": 1,
   "metadata": {},
   "outputs": [],
   "source": [
    "from alignment_calculation import loanbookMaker\n",
    "from alignment_calculation import alignmentCalculator\n",
    "import pandas as pd\n",
    "\n",
    "%load_ext autoreload\n",
    "%autoreload 2"
   ]
  },
  {
   "cell_type": "code",
   "execution_count": 2,
   "metadata": {},
   "outputs": [],
   "source": [
    "lm = loanbookMaker()"
   ]
  },
  {
   "cell_type": "code",
   "execution_count": null,
   "metadata": {},
   "outputs": [],
   "source": [
    "year = 2023\n",
    "month = 12\n",
    "start_year = 2022\n",
    "start_month = 1\n",
    "jst_codes = []"
   ]
  },
  {
   "cell_type": "code",
   "execution_count": null,
   "metadata": {},
   "outputs": [],
   "source": [
    "loans = lm.make_loanbook(loan_year=year, month=month, additional_columns={'inst.prps':'MAX', 'dbtr.indstry_pd_wghtd_avrg':'AVG'})"
   ]
  },
  {
   "cell_type": "code",
   "execution_count": null,
   "metadata": {},
   "outputs": [],
   "source": [
    "ac = alignmentCalculator(loan_file=loans,\n",
    "                         custom_settings={'MAIN_PACTA_FILE'  : {2023: [r'D:\\pacta\\data\\2024-02-14_AI_2023Q4_ECB-Company-Analytics.csv',\n",
    "                                                                       r'D:\\pacta\\data\\2024-02-14_AI_2023Q4_ECB-Company-Indicators.csv'],\n",
    "                                                                2022: [r'D:\\pacta\\data\\2023-02-17_AI_2022Q4_ECB PACTA for Banks Free dataset_EO_Company_Analytics.csv',\n",
    "                                                                       r'D:\\pacta\\data\\2023-02-17_AI_2022Q4_ECB PACTA for Banks Free dataset_EO_Company_Indicators.csv'],}\n",
    "                                         })"
   ]
  },
  {
   "cell_type": "code",
   "execution_count": null,
   "metadata": {},
   "outputs": [],
   "source": [
    "results = ac._preprocess_data(use_loan_file=True, \n",
    "                              individual_loans=False, \n",
    "                              loan_indicator='outstanding_amount', \n",
    "                              only_parents=True, \n",
    "                              facet_col=[], \n",
    "                              year=2023, \n",
    "                              use_region_file=True, \n",
    "                              normalise_method='bank')\n",
    "pacta_data = ac._combine_asset_locations(year=2023)"
   ]
  },
  {
   "cell_type": "code",
   "execution_count": null,
   "metadata": {},
   "outputs": [],
   "source": [
    "results = results.merge(\n",
    "            results.groupby(['jst_code', 'dbtr_id', 'company_name', 'company_id', 'loan_id', 'name_company_y', 'sector', 'year'], as_index=False)['production'].sum(),\n",
    "            how='left',\n",
    "            left_on=['jst_code', 'dbtr_id', 'company_name', 'company_id', 'loan_id', 'name_company_y', 'sector', 'year'],\n",
    "            right_on=['jst_code', 'dbtr_id', 'company_name', 'company_id', 'loan_id', 'name_company_y', 'sector', 'year'],\n",
    "            suffixes=['','_total'])\n",
    "results['tech_share'] = results['production']/results['production_total']"
   ]
  },
  {
   "cell_type": "code",
   "execution_count": null,
   "metadata": {},
   "outputs": [],
   "source": [
    "temp = ac.calculate_net_alignment(bopo_split=True, facet_col=['company_id'])\n",
    "temp"
   ]
  },
  {
   "cell_type": "code",
   "execution_count": null,
   "metadata": {},
   "outputs": [],
   "source": [
    "ac.group_scores(temp, ['jst_code'])"
   ]
  },
  {
   "cell_type": "code",
   "execution_count": null,
   "metadata": {},
   "outputs": [],
   "source": []
  }
 ],
 "metadata": {
  "kernelspec": {
   "display_name": "Python 3 (ipykernel)",
   "language": "python",
   "name": "python3"
  },
  "language_info": {
   "codemirror_mode": {
    "name": "ipython",
    "version": 3
   },
   "file_extension": ".py",
   "mimetype": "text/x-python",
   "name": "python",
   "nbconvert_exporter": "python",
   "pygments_lexer": "ipython3",
   "version": "3.9.18"
  }
 },
 "nbformat": 4,
 "nbformat_minor": 4
}
